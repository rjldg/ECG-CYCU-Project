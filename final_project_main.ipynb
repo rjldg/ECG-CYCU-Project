{
 "cells": [
  {
   "cell_type": "code",
   "execution_count": 4,
   "id": "5faf5dcf",
   "metadata": {},
   "outputs": [],
   "source": [
    "import os\n",
    "import math\n",
    "from pathlib import Path\n",
    "from typing import Tuple\n",
    "\n",
    "import numpy as np\n",
    "import matplotlib.pyplot as plt\n",
    "from tqdm import tqdm\n",
    "\n",
    "import tensorflow as tf\n",
    "from tensorflow.keras import layers, models, callbacks, optimizers\n",
    "\n",
    "# assume utils.py is in same folder and contains load_data, plot_history_tf, plot_heat_map\n",
    "from utils import load_data, plot_history_tf, plot_heat_map"
   ]
  },
  {
   "cell_type": "code",
   "execution_count": 5,
   "id": "2cce8bf5",
   "metadata": {},
   "outputs": [],
   "source": [
    "# -------------------------\n",
    "# Configuration\n",
    "# -------------------------\n",
    "IMG_SIZE = 224  # image height/width in pixels (square)\n",
    "IMAGE_DIR = Path(\"./ecg_images\")\n",
    "NPY_IMAGE_DIR = Path(\"./ecg_images_npy\")\n",
    "NPY_SIGNAL_DIR = Path(\"./ecg_signals_npy\")\n",
    "MODEL_SAVE_PATH = Path(\"./ecg_hybrid_model.h5\")\n",
    "\n",
    "BATCH_SIZE = 32\n",
    "EPOCHS = 50\n",
    "RANDOM_SEED = 42\n",
    "NUM_CLASSES = 15\n",
    "\n",
    "# Create directories\n",
    "IMAGE_DIR.mkdir(parents=True, exist_ok=True)\n",
    "NPY_IMAGE_DIR.mkdir(parents=True, exist_ok=True)\n",
    "NPY_SIGNAL_DIR.mkdir(parents=True, exist_ok=True)"
   ]
  },
  {
   "cell_type": "code",
   "execution_count": null,
   "id": "8a52d658",
   "metadata": {},
   "outputs": [],
   "source": []
  }
 ],
 "metadata": {
  "kernelspec": {
   "display_name": "ecg_cycu_project",
   "language": "python",
   "name": "python3"
  },
  "language_info": {
   "codemirror_mode": {
    "name": "ipython",
    "version": 3
   },
   "file_extension": ".py",
   "mimetype": "text/x-python",
   "name": "python",
   "nbconvert_exporter": "python",
   "pygments_lexer": "ipython3",
   "version": "3.12.11"
  }
 },
 "nbformat": 4,
 "nbformat_minor": 5
}
