{
 "cells": [
  {
   "cell_type": "code",
   "execution_count": 6,
   "id": "51f3acaf",
   "metadata": {},
   "outputs": [
    {
     "name": "stdout",
     "output_type": "stream",
     "text": [
      "loading the ecg data of No.100\n",
      "loading the ecg data of No.101\n",
      "loading the ecg data of No.103\n",
      "loading the ecg data of No.105\n",
      "loading the ecg data of No.106\n",
      "loading the ecg data of No.107\n",
      "loading the ecg data of No.108\n",
      "loading the ecg data of No.109\n",
      "loading the ecg data of No.111\n",
      "loading the ecg data of No.112\n",
      "loading the ecg data of No.113\n",
      "loading the ecg data of No.114\n",
      "loading the ecg data of No.115\n",
      "loading the ecg data of No.116\n",
      "loading the ecg data of No.117\n",
      "loading the ecg data of No.119\n",
      "loading the ecg data of No.121\n",
      "loading the ecg data of No.122\n",
      "loading the ecg data of No.123\n",
      "loading the ecg data of No.124\n",
      "loading the ecg data of No.200\n",
      "loading the ecg data of No.201\n",
      "loading the ecg data of No.202\n",
      "loading the ecg data of No.203\n",
      "loading the ecg data of No.205\n",
      "loading the ecg data of No.208\n",
      "loading the ecg data of No.210\n",
      "loading the ecg data of No.212\n",
      "loading the ecg data of No.213\n",
      "loading the ecg data of No.214\n",
      "loading the ecg data of No.215\n",
      "loading the ecg data of No.217\n",
      "loading the ecg data of No.219\n",
      "loading the ecg data of No.220\n",
      "loading the ecg data of No.221\n",
      "loading the ecg data of No.222\n",
      "loading the ecg data of No.223\n",
      "loading the ecg data of No.228\n",
      "loading the ecg data of No.230\n",
      "loading the ecg data of No.231\n",
      "loading the ecg data of No.232\n",
      "loading the ecg data of No.233\n",
      "loading the ecg data of No.234\n",
      "X_train: (77872, 300)\n",
      "y_train: (77872,)\n",
      "label_set: (97340,)\n"
     ]
    },
    {
     "data": {
      "text/plain": [
       "'\\n# 3. Load the trained model\\nmodel = tf.keras.models.load_model(MODEL_SAVE_PATH)\\n\\n# 4. Evaluate on the test dataset\\nprint(\\'Evaluation Starting:\\')\\nloss, accuracy = model.evaluate(test_ds)\\nprint(f\"Test Loss: {loss:.4f}\")\\nprint(f\"Test Accuracy: {accuracy:.4f}\")\\n'"
      ]
     },
     "execution_count": 6,
     "metadata": {},
     "output_type": "execute_result"
    }
   ],
   "source": [
    "# file: evaluate_ecg_hybrid_model.py\n",
    "import tensorflow as tf\n",
    "from pathlib import Path\n",
    "import numpy as np\n",
    "\n",
    "from utils import load_data\n",
    "from utils_v2 import (\n",
    "    normalize_signal,\n",
    "    load_pair_dataset,\n",
    "    IMG_SIZE,\n",
    "    MODEL_SAVE_PATH,\n",
    "    BATCH_SIZE\n",
    ")\n",
    "\n",
    "# 1. Load test data (same split & processing as training)\n",
    "X_train, X_test, y_train, y_test = load_data(0.2, 42)\n",
    "\n",
    "# Load saved image paths (.npy format) generated during training\n",
    "NPY_IMAGE_DIR = Path(\"./ecg_images_npy\")\n",
    "test_img_paths = sorted([str(p) for p in NPY_IMAGE_DIR.glob(\"sig_*_lbl*.npy\")])\n",
    "# Filter to match only the test set indices if needed\n",
    "# (assuming test_img_paths align with X_test order in your case)\n",
    "\n",
    "# 2. Create TensorFlow dataset for evaluation\n",
    "test_ds = load_pair_dataset(\n",
    "    X_test,\n",
    "    test_img_paths,\n",
    "    y_test,\n",
    "    BATCH_SIZE,\n",
    "    False\n",
    ")\n",
    "'''\n",
    "# 3. Load the trained model\n",
    "model = tf.keras.models.load_model(MODEL_SAVE_PATH)\n",
    "\n",
    "# 4. Evaluate on the test dataset\n",
    "print('Evaluation Starting:')\n",
    "loss, accuracy = model.evaluate(test_ds)\n",
    "print(f\"Test Loss: {loss:.4f}\")\n",
    "print(f\"Test Accuracy: {accuracy:.4f}\")\n",
    "'''\n"
   ]
  },
  {
   "cell_type": "code",
   "execution_count": null,
   "id": "c97ef061",
   "metadata": {},
   "outputs": [],
   "source": [
    "\n",
    "# 3. Load the trained model\n",
    "model = tf.keras.models.load_model(MODEL_SAVE_PATH, compile=False)\n",
    "\n",
    "model.compile(\n",
    "    optimizer=tf.keras.optimizers.Adam(learning_rate=1e-3),\n",
    "    loss=tf.keras.losses.SparseCategoricalCrossentropy(),\n",
    "    metrics=['accuracy']\n",
    ")\n",
    "\n",
    "# 4. Evaluate on the test dataset\n",
    "print('Evaluation Starting:')\n",
    "loss, accuracy = model.evaluate(test_ds)\n",
    "print(f\"Test Loss: {loss:.4f}\")\n",
    "print(f\"Test Accuracy: {accuracy:.4f}\")\n"
   ]
  }
 ],
 "metadata": {
  "kernelspec": {
   "display_name": "ecg_cycu_project",
   "language": "python",
   "name": "python3"
  },
  "language_info": {
   "codemirror_mode": {
    "name": "ipython",
    "version": 3
   },
   "file_extension": ".py",
   "mimetype": "text/x-python",
   "name": "python",
   "nbconvert_exporter": "python",
   "pygments_lexer": "ipython3",
   "version": "3.12.11"
  }
 },
 "nbformat": 4,
 "nbformat_minor": 5
}
